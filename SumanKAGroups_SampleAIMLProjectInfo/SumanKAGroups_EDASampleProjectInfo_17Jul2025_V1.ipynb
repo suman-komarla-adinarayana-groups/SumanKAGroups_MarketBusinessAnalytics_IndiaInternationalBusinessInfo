{
 "cells": [
  {
   "cell_type": "markdown",
   "id": "2bce6f3b-0c81-46d5-a2e2-68ad61ade009",
   "metadata": {},
   "source": [
    "######\n",
    "Exploratory Data Analysis\n",
    "\n",
    "Data Preperation / Exploration (Raw Data->Data Processing->Data Cleaning) [Recursive:- EDA->DATA PROCESSING->Data Cleaning ->EDA]\n",
    "Data Modelling [EDA->Data Modelling]\n",
    "Data Evaluation (Enriched Data,Visualisation,Reporting)\n",
    "Data Product for Deployment/Decision Making AUTHOR:- Suman Komarla Adinarayana [AITPA9662R]"
   ]
  },
  {
   "cell_type": "markdown",
   "id": "69a6f213-e3d1-45e6-8664-5ae8a80f73d7",
   "metadata": {},
   "source": [
    "###Language Specifics - Importing the necessary standard python libraries for data science/machine learning application"
   ]
  },
  {
   "cell_type": "markdown",
   "id": "0a1ce18b-bdc3-4137-bafd-65e7cd482de8",
   "metadata": {},
   "source": [
    "###Author Suman Komarla Adinarayana [AITPA9662R] [Student ID -  ] [Enrollment ID - ] [GoI KYC ID - ] [GoI Academic Bank of Credits (ABC)/APAAR ID]"
   ]
  },
  {
   "cell_type": "markdown",
   "id": "ead495fe-124a-400c-89dd-32faa6216ed3",
   "metadata": {},
   "source": [
    "### SumanKomarlaAdinarayana_INFO_IDE_ENVIRONMENT\n",
    "###DISABLE BELOW CODE IF IDE ENVIRONMENT INFORMATION IS NOT REQUIRED"
   ]
  },
  {
   "cell_type": "code",
   "execution_count": 1,
   "id": "a92333a7-0583-4c73-8448-1c7b743b7e6e",
   "metadata": {},
   "outputs": [
    {
     "name": "stdout",
     "output_type": "stream",
     "text": [
      "Selected Jupyter core packages...\n",
      "IPython          : 9.4.0\n",
      "ipykernel        : 6.29.5\n",
      "ipywidgets       : not installed\n",
      "jupyter_client   : 8.6.3\n",
      "jupyter_core     : 5.8.1\n",
      "jupyter_server   : 2.16.0\n",
      "jupyterlab       : 4.4.4\n",
      "nbclient         : 0.10.2\n",
      "nbconvert        : 7.16.6\n",
      "nbformat         : 5.10.4\n",
      "notebook         : not installed\n",
      "qtconsole        : not installed\n",
      "traitlets        : 5.14.3\n"
     ]
    }
   ],
   "source": [
    "!jupyter --version"
   ]
  },
  {
   "cell_type": "markdown",
   "id": "637ab979-15be-4f2d-9fcb-1df72dd974ad",
   "metadata": {},
   "source": [
    "### SumanKomarlaAdinarayana_INFO_IDE_PYTHON_VERSION\n",
    "###DISABLE BELOW CODE IF PYTHON VERSION INFORMATION IS NOT REQUIRED"
   ]
  },
  {
   "cell_type": "code",
   "execution_count": 2,
   "id": "601d051b-a435-4505-9363-11387fdedb66",
   "metadata": {},
   "outputs": [
    {
     "name": "stdout",
     "output_type": "stream",
     "text": [
      "Python 3.12.1\n"
     ]
    }
   ],
   "source": [
    "!python --version"
   ]
  },
  {
   "cell_type": "markdown",
   "id": "83393a5b-dc1d-4b88-9f52-1ca9922a6362",
   "metadata": {},
   "source": [
    "### SumanKomarlaAdinarayana_INFO_FILE_VERSION\n",
    "###DISABLE BELOW CODE IF FILE_VERSION INFORMATION IS NOT REQUIRED"
   ]
  },
  {
   "cell_type": "code",
   "execution_count": 3,
   "id": "8b5729e6-e371-4225-90bf-de56021478c2",
   "metadata": {},
   "outputs": [
    {
     "name": "stdout",
     "output_type": "stream",
     "text": [
      "Suman Komarla Adinarayana's python notebook is last executed on 2025-07-16 17:09:55.678711\n"
     ]
    }
   ],
   "source": [
    "import datetime\n",
    "current_datetime = datetime.datetime.now()\n",
    "print('Suman Komarla Adinarayana\\'s python notebook is last executed on', current_datetime)"
   ]
  },
  {
   "cell_type": "code",
   "execution_count": 4,
   "id": "9483ac01-a704-4644-bdf1-d41716d4a6e0",
   "metadata": {},
   "outputs": [
    {
     "name": "stdout",
     "output_type": "stream",
     "text": [
      "['/home/codespace/.local/lib/python3.12/site-packages/ipykernel_launcher.py', '-f', '/home/codespace/.local/share/jupyter/runtime/kernel-646fdae7-9287-4833-a770-38ea8de7ce01.json']\n",
      "Suman Komarla Adinarayana's python notebook IDE has the packages\n",
      "Package                   Version\n",
      "------------------------- --------------\n",
      "anyio                     4.9.0\n",
      "argon2-cffi               25.1.0\n",
      "argon2-cffi-bindings      21.2.0\n",
      "arrow                     1.3.0\n",
      "asttokens                 3.0.0\n",
      "async-lru                 2.0.5\n",
      "attrs                     25.3.0\n",
      "babel                     2.17.0\n",
      "beautifulsoup4            4.13.4\n",
      "bleach                    6.2.0\n",
      "certifi                   2025.7.9\n",
      "cffi                      1.17.1\n",
      "charset-normalizer        3.4.2\n",
      "colorama                  0.4.6\n",
      "comm                      0.2.2\n",
      "contourpy                 1.3.2\n",
      "cycler                    0.12.1\n",
      "debugpy                   1.8.14\n",
      "decorator                 5.2.1\n",
      "defusedxml                0.7.1\n",
      "executing                 2.2.0\n",
      "fastjsonschema            2.21.1\n",
      "filelock                  3.13.1\n",
      "fonttools                 4.58.5\n",
      "fqdn                      1.5.1\n",
      "fsspec                    2024.6.1\n",
      "gitdb                     4.0.12\n",
      "GitPython                 3.1.44\n",
      "h11                       0.16.0\n",
      "httpcore                  1.0.9\n",
      "httpx                     0.28.1\n",
      "idna                      3.10\n",
      "ipykernel                 6.29.5\n",
      "ipython                   9.4.0\n",
      "ipython_pygments_lexers   1.1.1\n",
      "isoduration               20.11.0\n",
      "jedi                      0.19.2\n",
      "Jinja2                    3.1.6\n",
      "joblib                    1.5.1\n",
      "json5                     0.12.0\n",
      "jsonpointer               3.0.0\n",
      "jsonschema                4.24.0\n",
      "jsonschema-specifications 2025.4.1\n",
      "jupyter_client            8.6.3\n",
      "jupyter_core              5.8.1\n",
      "jupyter-events            0.12.0\n",
      "jupyter-lsp               2.2.5\n",
      "jupyter_server            2.16.0\n",
      "jupyter-server-mathjax    0.2.6\n",
      "jupyter_server_terminals  0.5.3\n",
      "jupyterlab                4.4.4\n",
      "jupyterlab_git            0.51.2\n",
      "jupyterlab_pygments       0.3.0\n",
      "jupyterlab_server         2.27.3\n",
      "kiwisolver                1.4.8\n",
      "MarkupSafe                3.0.2\n",
      "matplotlib                3.10.3\n",
      "matplotlib-inline         0.1.7\n",
      "mistune                   3.1.3\n",
      "mpmath                    1.3.0\n",
      "narwhals                  1.46.0\n",
      "nbclient                  0.10.2\n",
      "nbconvert                 7.16.6\n",
      "nbdime                    4.0.2\n",
      "nbformat                  5.10.4\n",
      "nest-asyncio              1.6.0\n",
      "networkx                  3.3\n",
      "notebook_shim             0.2.4\n",
      "numpy                     2.3.1\n",
      "overrides                 7.7.0\n",
      "packaging                 25.0\n",
      "pandas                    2.3.1\n",
      "pandocfilters             1.5.1\n",
      "parso                     0.8.4\n",
      "pexpect                   4.9.0\n",
      "pillow                    11.3.0\n",
      "pip                       25.1.1\n",
      "platformdirs              4.3.8\n",
      "plotly                    6.2.0\n",
      "prometheus_client         0.22.1\n",
      "prompt_toolkit            3.0.51\n",
      "psutil                    7.0.0\n",
      "ptyprocess                0.7.0\n",
      "pure_eval                 0.2.3\n",
      "pycparser                 2.22\n",
      "Pygments                  2.19.2\n",
      "pyparsing                 3.2.3\n",
      "python-dateutil           2.9.0.post0\n",
      "python-json-logger        3.3.0\n",
      "pytz                      2025.2\n",
      "PyYAML                    6.0.2\n",
      "pyzmq                     27.0.0\n",
      "referencing               0.36.2\n",
      "requests                  2.32.4\n",
      "rfc3339-validator         0.1.4\n",
      "rfc3986-validator         0.1.1\n",
      "rpds-py                   0.26.0\n",
      "scikit-learn              1.7.0\n",
      "scipy                     1.16.0\n",
      "seaborn                   0.13.2\n",
      "Send2Trash                1.8.3\n",
      "setuptools                80.9.0\n",
      "six                       1.17.0\n",
      "smmap                     5.0.2\n",
      "sniffio                   1.3.1\n",
      "soupsieve                 2.7\n",
      "stack-data                0.6.3\n",
      "sympy                     1.13.3\n",
      "terminado                 0.18.1\n",
      "threadpoolctl             3.6.0\n",
      "tinycss2                  1.4.0\n",
      "torch                     2.7.1+cpu\n",
      "tornado                   6.5.1\n",
      "traitlets                 5.14.3\n",
      "types-python-dateutil     2.9.0.20250708\n",
      "typing_extensions         4.14.1\n",
      "tzdata                    2025.2\n",
      "uri-template              1.3.0\n",
      "urllib3                   2.5.0\n",
      "wcwidth                   0.2.13\n",
      "webcolors                 24.11.1\n",
      "webencodings              0.5.1\n",
      "websocket-client          1.8.0\n"
     ]
    }
   ],
   "source": [
    "#SumanKA_VersionsDebugInfo_CodeTimeStamp\n",
    "import os\n",
    "###SumanKA-> Debug1\n",
    "from pathlib import Path\n",
    "import sys\n",
    "print(sys.argv)\n",
    "#current_filename = Path(__file__).name\n",
    "#print(\"Current Filename:\", current_filename)\n",
    "###SumanKA-> Debug1\n",
    "print('Suman Komarla Adinarayana\\'s python notebook IDE has the packages')\n",
    "!pip list"
   ]
  },
  {
   "cell_type": "markdown",
   "id": "165ec34d-a76e-4146-abc2-6c9635b5a0ae",
   "metadata": {},
   "source": [
    "###SKA_DEBUG_IDE_ENVIRONMENT - DISABLE THIS CODE IF DEBUG IS NOT REQUIRED"
   ]
  },
  {
   "cell_type": "code",
   "execution_count": 5,
   "id": "5dc05cd9-651d-4241-bdb3-6b805e277f50",
   "metadata": {},
   "outputs": [
    {
     "name": "stdout",
     "output_type": "stream",
     "text": [
      "This Script is not being run as a file\n"
     ]
    }
   ],
   "source": [
    "if '__file__' in globals():\n",
    "  print(__file__)\n",
    "else:\n",
    "  print('This Script is not being run as a file')"
   ]
  },
  {
   "cell_type": "code",
   "execution_count": null,
   "id": "489379d3-8730-48d9-8a69-937f8ba846e2",
   "metadata": {},
   "outputs": [],
   "source": [
    "# Installing the libraries with the specified version\n",
    "#In this particular environment, mentioned versions incompatibility issues found\n",
    "#SumanKA_DEBUG - TO DO -PRINT COMPLETE ENVIRONMENT VERSIONS AND DEBUG LOG FOR VERIFICATION\n",
    "!pip install --no-deps tensorflow -q --user --no-warn-script-location\n",
    "!pip install --no-deps scikit-learn -q --user --no-warn-script-location\n",
    "!pip install --no-deps matplotlib -q --user --no-warn-script-location\n",
    "!pip install seaborn numpy pandas -q --user --no-warn-script-location``"
   ]
  },
  {
   "cell_type": "code",
   "execution_count": 7,
   "id": "b2bbe051-c07e-48ed-9306-6e6855019923",
   "metadata": {},
   "outputs": [],
   "source": [
    "###Version Compatibility with latest version of individual packages issues check\n",
    "###%pip uninstall numpy scikit-learn -y\n",
    "###%pip install numpy scikit-learn"
   ]
  },
  {
   "cell_type": "markdown",
   "id": "b146164e-85e4-4012-b8d1-c76f8ee88ae1",
   "metadata": {},
   "source": [
    "### SumanKomarlaAdinarayana_IDE_LIBRARY_CONFIG_DEBUG\n",
    "###Considering the Python Language and Standard Library Packages being developed independently, version incompatibility may arise use the debug statement accordingly to avoid \"Tooling/Scripting/Programming Instability Issues\"\n",
    "###Only Enable this if specific versions needs to be installed as per below examples"
   ]
  },
  {
   "cell_type": "code",
   "execution_count": 8,
   "id": "c746198e-1389-4965-962a-2ec7e2b3d3f7",
   "metadata": {},
   "outputs": [],
   "source": [
    "#!pip install --no-deps tensorflow==2.18.0 scikit-learn==1.3.2 matplotlib===3.8.3 seaborn==0.13.2 numpy==1.26.4 pandas==2.2.2 -q --user --no-warn-script-location"
   ]
  },
  {
   "cell_type": "code",
   "execution_count": 9,
   "id": "c7a97e05-ee8e-4e2a-9e2c-6babccb16c9e",
   "metadata": {},
   "outputs": [],
   "source": [
    "#!pip install --no-deps scikit-learn==1.3.2 -q --user --no-warn-script-location"
   ]
  },
  {
   "cell_type": "code",
   "execution_count": 10,
   "id": "ba7f936d-5106-46c7-b651-3e3f3511cfa5",
   "metadata": {},
   "outputs": [],
   "source": [
    "#!pip install --no-deps tensorflow scikit-learn matplotlib seaborn numpy pandas -q --user --no-warn-script-location"
   ]
  },
  {
   "cell_type": "markdown",
   "id": "b0b40b3d-c1bc-4cc8-bbd0-83ed4e03f4dc",
   "metadata": {},
   "source": [
    "### SumanKomarlaAdinarayana_EDA_Analysis_Library_Packages_Info"
   ]
  },
  {
   "cell_type": "markdown",
   "id": "3d53c55d-9a79-4e8e-995a-1ed158917a27",
   "metadata": {},
   "source": [
    "### SumanKomarlaAdinarayana_PYTHON_STANDARD_PACKAGES -  \"Data Handling\" "
   ]
  },
  {
   "cell_type": "code",
   "execution_count": 11,
   "id": "1304e4e0-7104-4710-8d57-833586e25142",
   "metadata": {},
   "outputs": [],
   "source": [
    "# Library for data manipulation and analysis.\n",
    "import pandas as pd\n",
    "# Fundamental package for scientific computing.\n",
    "import numpy as np"
   ]
  },
  {
   "cell_type": "markdown",
   "id": "7e0e952a-69b0-4787-b5c2-8cf9bc793e31",
   "metadata": {},
   "source": [
    "### SumanKomarlaAdinarayana_PYTHON_STANDARD_PACKAGES -  \"Data Cleaning\" "
   ]
  },
  {
   "cell_type": "markdown",
   "id": "f908adc7-cec5-4af8-a9ea-a4c1c689b2a1",
   "metadata": {},
   "source": [
    "### SumanKomarlaAdinarayana_PYTHON_STANDARD_PACKAGES -  \"Data Imputation\" "
   ]
  },
  {
   "cell_type": "code",
   "execution_count": 12,
   "id": "bc6870f1-a9bc-40be-a32c-48af9683735e",
   "metadata": {},
   "outputs": [],
   "source": [
    "#Imports a class for imputing missing values in datasets.\n",
    "from sklearn.impute import SimpleImputer"
   ]
  },
  {
   "cell_type": "code",
   "execution_count": 13,
   "id": "e98ec692-b48d-4bd5-a97a-d026555f6e2c",
   "metadata": {},
   "outputs": [],
   "source": [
    "# Time related functions.\n",
    "import time"
   ]
  },
  {
   "cell_type": "markdown",
   "id": "6b59fc95",
   "metadata": {},
   "source": [
    "### Test"
   ]
  }
 ],
 "metadata": {
  "kernelspec": {
   "display_name": "Python 3 (ipykernel)",
   "language": "python",
   "name": "python3"
  }
 },
 "nbformat": 4,
 "nbformat_minor": 5
}
