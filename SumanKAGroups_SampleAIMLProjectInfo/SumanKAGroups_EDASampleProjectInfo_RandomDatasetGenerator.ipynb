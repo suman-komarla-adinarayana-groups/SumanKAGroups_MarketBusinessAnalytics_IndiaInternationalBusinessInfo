{
 "cells": [
  {
   "cell_type": "markdown",
   "id": "2007778d",
   "metadata": {},
   "source": [
    "1. Using numpy and pandas"
   ]
  },
  {
   "cell_type": "code",
   "execution_count": 28,
   "id": "68e830e5",
   "metadata": {},
   "outputs": [],
   "source": [
    "import numpy as np\n",
    "import pandas as pd"
   ]
  },
  {
   "cell_type": "code",
   "execution_count": 43,
   "id": "4e29057f",
   "metadata": {},
   "outputs": [],
   "source": [
    "np.random.seed(1947)\n",
    "data = np.random.rand(100,10)\n",
    "columns = ['Col1', 'Col2', 'Col3','Col4','Col5','Col6','Col7','Col8','Col9','Col10']"
   ]
  },
  {
   "cell_type": "code",
   "execution_count": 44,
   "id": "b29305fe",
   "metadata": {},
   "outputs": [
    {
     "name": "stdout",
     "output_type": "stream",
     "text": [
      "       Col1      Col2      Col3      Col4      Col5      Col6      Col7  \\\n",
      "0  0.741834  0.125410  0.850674  0.959022  0.552441  0.405072  0.181053   \n",
      "1  0.828854  0.537810  0.492580  0.718708  0.112309  0.681096  0.176629   \n",
      "2  0.029185  0.563220  0.769595  0.644476  0.619357  0.464724  0.965769   \n",
      "3  0.374737  0.730846  0.387233  0.479311  0.880198  0.713471  0.435365   \n",
      "4  0.786597  0.432156  0.730301  0.553711  0.646695  0.205819  0.643702   \n",
      "\n",
      "       Col8      Col9     Col10  \n",
      "0  0.747717  0.808573  0.760172  \n",
      "1  0.285012  0.600997  0.430675  \n",
      "2  0.604586  0.409469  0.820377  \n",
      "3  0.565631  0.358389  0.917240  \n",
      "4  0.244361  0.215988  0.377489  \n"
     ]
    }
   ],
   "source": [
    "df = pd.DataFrame(data, columns=columns)\n",
    "print(df.head())"
   ]
  },
  {
   "cell_type": "code",
   "execution_count": 31,
   "id": "a08276be",
   "metadata": {},
   "outputs": [
    {
     "data": {
      "text/html": [
       "<div>\n",
       "<style scoped>\n",
       "    .dataframe tbody tr th:only-of-type {\n",
       "        vertical-align: middle;\n",
       "    }\n",
       "\n",
       "    .dataframe tbody tr th {\n",
       "        vertical-align: top;\n",
       "    }\n",
       "\n",
       "    .dataframe thead th {\n",
       "        text-align: right;\n",
       "    }\n",
       "</style>\n",
       "<table border=\"1\" class=\"dataframe\">\n",
       "  <thead>\n",
       "    <tr style=\"text-align: right;\">\n",
       "      <th></th>\n",
       "      <th>count</th>\n",
       "      <th>mean</th>\n",
       "      <th>std</th>\n",
       "      <th>min</th>\n",
       "      <th>25%</th>\n",
       "      <th>50%</th>\n",
       "      <th>75%</th>\n",
       "      <th>max</th>\n",
       "    </tr>\n",
       "  </thead>\n",
       "  <tbody>\n",
       "    <tr>\n",
       "      <th>Col1</th>\n",
       "      <td>100.0</td>\n",
       "      <td>0.519518</td>\n",
       "      <td>0.322390</td>\n",
       "      <td>0.006063</td>\n",
       "      <td>0.212054</td>\n",
       "      <td>0.563914</td>\n",
       "      <td>0.811594</td>\n",
       "      <td>0.995920</td>\n",
       "    </tr>\n",
       "    <tr>\n",
       "      <th>Col2</th>\n",
       "      <td>100.0</td>\n",
       "      <td>0.501199</td>\n",
       "      <td>0.282532</td>\n",
       "      <td>0.012307</td>\n",
       "      <td>0.262141</td>\n",
       "      <td>0.522919</td>\n",
       "      <td>0.739977</td>\n",
       "      <td>0.985453</td>\n",
       "    </tr>\n",
       "    <tr>\n",
       "      <th>Col3</th>\n",
       "      <td>100.0</td>\n",
       "      <td>0.532529</td>\n",
       "      <td>0.279996</td>\n",
       "      <td>0.006068</td>\n",
       "      <td>0.295233</td>\n",
       "      <td>0.580141</td>\n",
       "      <td>0.761109</td>\n",
       "      <td>0.995796</td>\n",
       "    </tr>\n",
       "    <tr>\n",
       "      <th>Col4</th>\n",
       "      <td>100.0</td>\n",
       "      <td>0.471038</td>\n",
       "      <td>0.271473</td>\n",
       "      <td>0.020571</td>\n",
       "      <td>0.270598</td>\n",
       "      <td>0.452347</td>\n",
       "      <td>0.702699</td>\n",
       "      <td>0.983572</td>\n",
       "    </tr>\n",
       "    <tr>\n",
       "      <th>Col5</th>\n",
       "      <td>100.0</td>\n",
       "      <td>0.493991</td>\n",
       "      <td>0.307935</td>\n",
       "      <td>0.002552</td>\n",
       "      <td>0.228903</td>\n",
       "      <td>0.450676</td>\n",
       "      <td>0.786195</td>\n",
       "      <td>0.993541</td>\n",
       "    </tr>\n",
       "    <tr>\n",
       "      <th>Col6</th>\n",
       "      <td>100.0</td>\n",
       "      <td>0.528233</td>\n",
       "      <td>0.301212</td>\n",
       "      <td>0.000164</td>\n",
       "      <td>0.268081</td>\n",
       "      <td>0.537928</td>\n",
       "      <td>0.800301</td>\n",
       "      <td>0.990064</td>\n",
       "    </tr>\n",
       "    <tr>\n",
       "      <th>Col7</th>\n",
       "      <td>100.0</td>\n",
       "      <td>0.506673</td>\n",
       "      <td>0.294210</td>\n",
       "      <td>0.013788</td>\n",
       "      <td>0.229599</td>\n",
       "      <td>0.526814</td>\n",
       "      <td>0.738263</td>\n",
       "      <td>0.995455</td>\n",
       "    </tr>\n",
       "    <tr>\n",
       "      <th>Col8</th>\n",
       "      <td>100.0</td>\n",
       "      <td>0.498972</td>\n",
       "      <td>0.297311</td>\n",
       "      <td>0.001320</td>\n",
       "      <td>0.204711</td>\n",
       "      <td>0.533332</td>\n",
       "      <td>0.732854</td>\n",
       "      <td>0.995930</td>\n",
       "    </tr>\n",
       "    <tr>\n",
       "      <th>Col9</th>\n",
       "      <td>100.0</td>\n",
       "      <td>0.493475</td>\n",
       "      <td>0.279014</td>\n",
       "      <td>0.016534</td>\n",
       "      <td>0.242225</td>\n",
       "      <td>0.499465</td>\n",
       "      <td>0.717816</td>\n",
       "      <td>0.999913</td>\n",
       "    </tr>\n",
       "    <tr>\n",
       "      <th>Col10</th>\n",
       "      <td>100.0</td>\n",
       "      <td>0.496549</td>\n",
       "      <td>0.281920</td>\n",
       "      <td>0.012677</td>\n",
       "      <td>0.243117</td>\n",
       "      <td>0.493066</td>\n",
       "      <td>0.706328</td>\n",
       "      <td>0.987245</td>\n",
       "    </tr>\n",
       "  </tbody>\n",
       "</table>\n",
       "</div>"
      ],
      "text/plain": [
       "       count      mean       std       min       25%       50%       75%  \\\n",
       "Col1   100.0  0.519518  0.322390  0.006063  0.212054  0.563914  0.811594   \n",
       "Col2   100.0  0.501199  0.282532  0.012307  0.262141  0.522919  0.739977   \n",
       "Col3   100.0  0.532529  0.279996  0.006068  0.295233  0.580141  0.761109   \n",
       "Col4   100.0  0.471038  0.271473  0.020571  0.270598  0.452347  0.702699   \n",
       "Col5   100.0  0.493991  0.307935  0.002552  0.228903  0.450676  0.786195   \n",
       "Col6   100.0  0.528233  0.301212  0.000164  0.268081  0.537928  0.800301   \n",
       "Col7   100.0  0.506673  0.294210  0.013788  0.229599  0.526814  0.738263   \n",
       "Col8   100.0  0.498972  0.297311  0.001320  0.204711  0.533332  0.732854   \n",
       "Col9   100.0  0.493475  0.279014  0.016534  0.242225  0.499465  0.717816   \n",
       "Col10  100.0  0.496549  0.281920  0.012677  0.243117  0.493066  0.706328   \n",
       "\n",
       "            max  \n",
       "Col1   0.995920  \n",
       "Col2   0.985453  \n",
       "Col3   0.995796  \n",
       "Col4   0.983572  \n",
       "Col5   0.993541  \n",
       "Col6   0.990064  \n",
       "Col7   0.995455  \n",
       "Col8   0.995930  \n",
       "Col9   0.999913  \n",
       "Col10  0.987245  "
      ]
     },
     "execution_count": 31,
     "metadata": {},
     "output_type": "execute_result"
    }
   ],
   "source": [
    "df.describe().T"
   ]
  },
  {
   "cell_type": "markdown",
   "id": "a3efb195",
   "metadata": {},
   "source": [
    "2. Using sklearn.datasets for Classification"
   ]
  },
  {
   "cell_type": "code",
   "execution_count": 49,
   "id": "21e66552",
   "metadata": {},
   "outputs": [
    {
     "name": "stderr",
     "output_type": "stream",
     "text": [
      "1996.77s - pydevd: Sending message related to process being replaced timed-out after 5 seconds\n"
     ]
    },
    {
     "name": "stdout",
     "output_type": "stream",
     "text": [
      "Requirement already satisfied: scikit-learn in /home/codespace/.local/lib/python3.12/site-packages (1.7.0)\n",
      "Requirement already satisfied: numpy>=1.22.0 in /home/codespace/.local/lib/python3.12/site-packages (from scikit-learn) (2.3.1)\n",
      "Requirement already satisfied: scipy>=1.8.0 in /home/codespace/.local/lib/python3.12/site-packages (from scikit-learn) (1.16.0)\n",
      "Requirement already satisfied: joblib>=1.2.0 in /home/codespace/.local/lib/python3.12/site-packages (from scikit-learn) (1.5.1)\n",
      "Requirement already satisfied: threadpoolctl>=3.1.0 in /home/codespace/.local/lib/python3.12/site-packages (from scikit-learn) (3.6.0)\n",
      "       Col1      Col2      Col3      Col4      Col5      Col6      Col7  \\\n",
      "0  1.137184  1.170707 -2.749634 -1.328523  2.107547 -1.204740 -0.843609   \n",
      "1  0.449897 -0.646157  0.009177 -1.043209  0.156899  0.801659  0.673519   \n",
      "2 -1.084599 -0.158616  0.018162 -1.253230  1.262105 -0.577821  0.304256   \n",
      "3 -0.087108  0.164394  0.363967  0.319408 -0.303060  0.947500  0.695628   \n",
      "4  1.568661  3.166451  0.149313 -0.118296  0.770334 -2.306093 -1.569203   \n",
      "\n",
      "       Col8      Col9     Col10  Label  \n",
      "0 -1.466878 -0.508442 -0.647479      0  \n",
      "1  0.132421  0.811404  0.859778      1  \n",
      "2  1.468885  1.224413  0.585312      2  \n",
      "3 -0.551261  0.002453 -0.800083      1  \n",
      "4  0.506164  1.184206 -1.202198      1  \n"
     ]
    }
   ],
   "source": [
    "!pip install scikit-learn\n",
    "from sklearn.datasets import make_classification\n",
    "# Generate a binary classification dataset\n",
    "# Generate a dataset with 100 samples and 20 features\n",
    "X, y = make_classification(\n",
    "n_samples=100,\n",
    "n_features=10,\n",
    "n_informative=5,\n",
    "n_redundant=2,\n",
    "n_classes=3,\n",
    "random_state=1956\n",
    ")\n",
    "# Combine features and labels into a DataFrame\n",
    "df = pd.DataFrame(X, columns=['Col1', 'Col2', 'Col3','Col4','Col5','Col6','Col7','Col8','Col9','Col10'])\n",
    "df['Label'] = y\n",
    "print(df.head())\n"
   ]
  },
  {
   "cell_type": "code",
   "execution_count": 35,
   "id": "bffd3676",
   "metadata": {},
   "outputs": [
    {
     "name": "stdout",
     "output_type": "stream",
     "text": [
      "Feature matrix shape: (100, 20)\n",
      "Target vector shape: (100,)\n"
     ]
    }
   ],
   "source": [
    "print(\"Feature matrix shape:\", X.shape) # (100, 20)\n",
    "print(\"Target vector shape:\", y.shape) # (100,)"
   ]
  },
  {
   "cell_type": "markdown",
   "id": "fb7c2078",
   "metadata": {},
   "source": [
    "3. Using random for Custom Data"
   ]
  },
  {
   "cell_type": "code",
   "execution_count": null,
   "id": "85613e16",
   "metadata": {},
   "outputs": [
    {
     "name": "stdout",
     "output_type": "stream",
     "text": [
      "   ID  Value\n",
      "0   1     42\n",
      "1   2     37\n",
      "2   3     87\n",
      "3   4     63\n",
      "4   5     97\n"
     ]
    }
   ],
   "source": [
    "import random\n",
    "\n",
    "# Generate a dataset with random integers\n",
    "data = [{'ID': i, 'Value': random.randint(1, 100)} for i in range(1, 101)]\n",
    "\n",
    "# Convert to a DataFrame\n",
    "df = pd.DataFrame(data)\n",
    "print(df.head())"
   ]
  }
 ],
 "metadata": {
  "kernelspec": {
   "display_name": "Python 3 (ipykernel)",
   "language": "python",
   "name": "python3"
  },
  "language_info": {
   "codemirror_mode": {
    "name": "ipython",
    "version": 3
   },
   "file_extension": ".py",
   "mimetype": "text/x-python",
   "name": "python",
   "nbconvert_exporter": "python",
   "pygments_lexer": "ipython3",
   "version": "3.12.1"
  }
 },
 "nbformat": 4,
 "nbformat_minor": 5
}
